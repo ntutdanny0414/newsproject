{
 "cells": [
  {
   "cell_type": "code",
   "execution_count": 2,
   "metadata": {},
   "outputs": [],
   "source": [
    "from bs4 import BeautifulSoup"
   ]
  },
  {
   "cell_type": "code",
   "execution_count": 3,
   "metadata": {},
   "outputs": [],
   "source": [
    "import requests"
   ]
  },
  {
   "cell_type": "code",
   "execution_count": 4,
   "metadata": {},
   "outputs": [],
   "source": [
    "key = '台積電'"
   ]
  },
  {
   "cell_type": "code",
   "execution_count": 6,
   "metadata": {},
   "outputs": [],
   "source": [
    "res = requests.get('https://www.ettoday.net/news_search/doSearch.php?keywords={}&idx=1&page='.format(key)+'1')"
   ]
  },
  {
   "cell_type": "code",
   "execution_count": 8,
   "metadata": {},
   "outputs": [],
   "source": [
    "soup = BeautifulSoup(res.text, 'html.parser')"
   ]
  },
  {
   "cell_type": "code",
   "execution_count": 18,
   "metadata": {},
   "outputs": [
    {
     "name": "stdout",
     "output_type": "stream",
     "text": [
      "https://www.ettoday.net/news/20181013/1280402.htm\n",
      "https://www.ettoday.net/news/20181012/1279942.htm\n",
      "https://www.ettoday.net/news/20181012/1279758.htm\n",
      "https://www.ettoday.net/news/20181012/1279422.htm\n",
      "https://www.ettoday.net/news/20181011/1278843.htm\n",
      "https://www.ettoday.net/news/20181011/1278804.htm\n",
      "https://www.ettoday.net/news/20181011/1278696.htm\n",
      "https://www.ettoday.net/news/20181010/1278426.htm\n",
      "https://www.ettoday.net/news/20181010/1278364.htm\n",
      "https://www.ettoday.net/news/20181009/1277755.htm\n"
     ]
    }
   ],
   "source": [
    "for link in soup.findAll('div',class_='box_1'):\n",
    "    print(link.find('a')['href'])"
   ]
  },
  {
   "cell_type": "code",
   "execution_count": 19,
   "metadata": {},
   "outputs": [],
   "source": [
    "res = requests.get('https://www.ettoday.net/news/20181013/1280402.htm')"
   ]
  },
  {
   "cell_type": "code",
   "execution_count": 20,
   "metadata": {},
   "outputs": [],
   "source": [
    "singleNews={}"
   ]
  },
  {
   "cell_type": "code",
   "execution_count": 21,
   "metadata": {},
   "outputs": [],
   "source": [
    "singleNews['url'] = 'https://www.ettoday.net/news/20181013/1280402.htm'"
   ]
  },
  {
   "cell_type": "code",
   "execution_count": 23,
   "metadata": {},
   "outputs": [],
   "source": [
    "singleNewsSoup = BeautifulSoup(res.text, 'html.parser')"
   ]
  },
  {
   "cell_type": "code",
   "execution_count": 28,
   "metadata": {},
   "outputs": [],
   "source": [
    "singleNews['title'] = singleNewsSoup.find('h1',class_='title').get_text()#.strip()"
   ]
  },
  {
   "cell_type": "code",
   "execution_count": 32,
   "metadata": {},
   "outputs": [],
   "source": [
    "singleNews['time'] = singleNewsSoup.find('time',class_='date').get_text().strip()"
   ]
  },
  {
   "cell_type": "code",
   "execution_count": 64,
   "metadata": {},
   "outputs": [],
   "source": [
    "article = []\n",
    "for i in singleNewsSoup.find('div',class_='story').find_all('p'):\n",
    "    if i.find('img') == None and i.find('strong') == None:\n",
    "        article.append(i.get_text())"
   ]
  },
  {
   "cell_type": "code",
   "execution_count": 65,
   "metadata": {},
   "outputs": [],
   "source": [
    "allword = ''\n",
    "for i in range(1,len(article)):\n",
    "    allword = allword + article[i]\n",
    "singleNews['content'] = allword    \n",
    "singleNews['resource'] = article[0]#.split('／')[0]"
   ]
  },
  {
   "cell_type": "code",
   "execution_count": 66,
   "metadata": {},
   "outputs": [
    {
     "data": {
      "text/plain": [
       "{'url': 'https://www.ettoday.net/news/20181013/1280402.htm',\n",
       " 'title': '台積電獨佔蘋果光！業界：明年全球市占率可望破六成',\n",
       " 'time': '2018年10月13日 11:10',\n",
       " 'content': '全球晶圓代工龍頭台積電據傳拿下蘋果明年度A13晶片訂單，不僅打敗競爭對手三星，更獨吞蘋果明年度A13晶片大單，而台積電目前全球市占率達56%，業界人士預估，隨著客戶與訂單規模成長，其全球市占率明年度可望突破六成。另外，台積電18日將召開法說會，公布第3季財報和第4季預期，由於近期市場對半導體景氣看法分歧，台積電第4季的業績能否持續成長動能，可望成為市場關注焦點。台積電是全球晶圓代工龍頭，以技術領先狠甩對手。包括蘋果iPhone XS、XS Max與iPhone XR都內建A12 Bionic晶片，靠的是台積電7奈米製程生產，顯示台積電在先進製程部分的競爭優勢。同時，台積電7奈米極紫外光（EUV）強化版製程預計將於明年第2季量產，領先群雄。台積電高階製程稱霸全球晶圓代工市場，技術之所以能超越全球半導體霸主英特爾，最大主因就是貫徹創辦人張忠謀主張的「技術領先」、「製造卓越」與「客戶信任」三大優勢。半導體供應鏈業界人士指出，台積電每年投注龐大的研發與資本支出，不僅在28奈米拉大聯電和格芯的競爭門檻，在16奈米也一舉趕過三星，進而在7奈米超越英特爾，在全球晶圓代工獨占鰲頭。格芯宣布退出7奈米之爭，市場利多解讀台積電後市，英特爾預計明年第四季推出10奈米製程產品，不過近期傳出其相關開發時程可能提早半年。而三星的7奈米EUV製程，將在今年底前投產，看似時程領先台積電，但據業界人士指出，其全面量產時程可能要等到2020年。',\n",
       " 'resource': '記者林淑慧／台北報導'}"
      ]
     },
     "execution_count": 66,
     "metadata": {},
     "output_type": "execute_result"
    }
   ],
   "source": [
    "singleNews"
   ]
  },
  {
   "cell_type": "code",
   "execution_count": null,
   "metadata": {},
   "outputs": [],
   "source": []
  }
 ],
 "metadata": {
  "kernelspec": {
   "display_name": "Python 3",
   "language": "python",
   "name": "python3"
  },
  "language_info": {
   "codemirror_mode": {
    "name": "ipython",
    "version": 3
   },
   "file_extension": ".py",
   "mimetype": "text/x-python",
   "name": "python",
   "nbconvert_exporter": "python",
   "pygments_lexer": "ipython3",
   "version": "3.6.6"
  }
 },
 "nbformat": 4,
 "nbformat_minor": 2
}
