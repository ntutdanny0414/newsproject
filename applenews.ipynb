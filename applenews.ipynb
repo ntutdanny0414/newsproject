{
 "cells": [
  {
   "cell_type": "code",
   "execution_count": 1,
   "metadata": {},
   "outputs": [],
   "source": [
    "from bs4 import BeautifulSoup\n",
    "import requests"
   ]
  },
  {
   "cell_type": "code",
   "execution_count": 2,
   "metadata": {},
   "outputs": [],
   "source": [
    "key = '台積電'"
   ]
  },
  {
   "cell_type": "code",
   "execution_count": 3,
   "metadata": {},
   "outputs": [],
   "source": [
    "res = requests.get('https://tw.appledaily.com/search/result?querystrS='+key)"
   ]
  },
  {
   "cell_type": "code",
   "execution_count": 5,
   "metadata": {},
   "outputs": [],
   "source": [
    "soup = BeautifulSoup(res.text, 'html.parser')"
   ]
  },
  {
   "cell_type": "code",
   "execution_count": 6,
   "metadata": {},
   "outputs": [
    {
     "name": "stdout",
     "output_type": "stream",
     "text": [
      "https://tw.finance.appledaily.com/realtime/20190131/1510765/\n",
      "https://tw.news.appledaily.com/life/realtime/20190131/1510852/\n",
      "https://tw.finance.appledaily.com/realtime/20190131/1510871/\n",
      "https://tw.lifestyle.appledaily.com/gadget/realtime/20190131/1510781/\n",
      "https://tw.finance.appledaily.com/realtime/20190131/1510741/\n",
      "https://tw.appledaily.com/finance/daily/20190131/38246769/\n",
      "https://tw.news.appledaily.com/politics/realtime/20190130/1509419/\n",
      "https://tw.finance.appledaily.com/realtime/20190130/1510413/\n",
      "https://tw.finance.appledaily.com/realtime/20190130/1510082/\n",
      "https://tw.news.appledaily.com/politics/realtime/20190130/1509936/\n",
      "https://tw.finance.appledaily.com/realtime/20190130/1510283/\n",
      "https://tw.finance.appledaily.com/realtime/20190130/1509570/\n",
      "https://tw.finance.appledaily.com/realtime/20190130/1510012/\n",
      "https://tw.news.appledaily.com/politics/realtime/20190130/1509971/\n",
      "https://tw.finance.appledaily.com/realtime/20190130/1509457/\n",
      "https://tw.finance.appledaily.com/realtime/20190129/1509400/\n",
      "https://tw.finance.appledaily.com/realtime/20190129/1509588/\n",
      "https://tw.finance.appledaily.com/realtime/20190129/1509104/\n",
      "https://tw.finance.appledaily.com/realtime/20190129/1509311/\n",
      "https://tw.finance.appledaily.com/realtime/20190129/1509269/\n"
     ]
    }
   ],
   "source": [
    "for link in soup.findAll('div',class_='content'):\n",
    "    print(link.find('a')['href'])"
   ]
  },
  {
   "cell_type": "code",
   "execution_count": 7,
   "metadata": {},
   "outputs": [],
   "source": [
    "res = requests.get('https://tw.finance.appledaily.com/realtime/20190131/1510765/')"
   ]
  },
  {
   "cell_type": "code",
   "execution_count": 8,
   "metadata": {},
   "outputs": [],
   "source": [
    "singleNews={}\n",
    "singleNews['url'] = 'https://tw.finance.appledaily.com/realtime/20190131/1510765/'\n",
    "singleNewsSoup = BeautifulSoup(res.text, 'html.parser')"
   ]
  },
  {
   "cell_type": "code",
   "execution_count": 14,
   "metadata": {},
   "outputs": [],
   "source": [
    "singleNews['title'] = singleNewsSoup.find('h1').get_text()"
   ]
  },
  {
   "cell_type": "code",
   "execution_count": 18,
   "metadata": {},
   "outputs": [],
   "source": [
    "singleNews['time'] = singleNewsSoup.find('div',class_='ndArticle_creat').get_text()[5:]"
   ]
  },
  {
   "cell_type": "code",
   "execution_count": 46,
   "metadata": {},
   "outputs": [],
   "source": [
    "article = singleNewsSoup.find('p').get_text().split('。')[:-1]\n",
    "singleNews['content'] = '。'.join(article) + '。'"
   ]
  },
  {
   "cell_type": "code",
   "execution_count": 53,
   "metadata": {},
   "outputs": [],
   "source": [
    "singleNews['resource'] = singleNewsSoup.find('p').get_text().split('。')[-1].split('）')[0][1:]"
   ]
  },
  {
   "cell_type": "code",
   "execution_count": 54,
   "metadata": {},
   "outputs": [
    {
     "data": {
      "text/plain": [
       "{'url': 'https://tw.finance.appledaily.com/realtime/20190131/1510765/',\n",
       " 'title': '不甩以核養綠公投\\u3000經濟部今宣布核電廠不會延役重啟',\n",
       " 'time': '2019/01/31 20:26',\n",
       " 'content': '經濟部今天召開記者會公布能源新政策，回應公投結果，關於外界關心核電，經濟部長沈榮津表示，核一、核二、核三延役與核四重啟不可能。核一1已進入除役階段、2號機今年7月執照到期，延役申請不及。核二、核三機組延役面臨4大困難，包含核二延役申請已超過期限、地方政府反對、核廢料無處去、地方政府及民意若反對，國會難以支持延役預算。至於核四重啟須突破立法院決議要求廢除核四計劃，安全數位儀控設備備品無法取得、與原廠商協商修約、向原能會申請重啟及完成福島安全強化、設備完成組裝測試、燃料棒送回原廠檢查，總期程將超過6年，核能延役或重啟，客觀條件不可行，地方民意也不支持，困難重重。\\xa0他說，即使核一、核二、核三延役，第3年也無法達成火電年減1%的目標。經濟部也強調，依公投結果，2年內不再新擴建燃煤機組，達成每年減少1%火力發電的公投要求，也會修改電業法。沈榮津說，前2年可做到火電年減1%，並穩定供電，第3年起，繼續執行年減火電1%有困難，會有缺電情形。公投關於能源公投有兩案，廢止電業法部分，經濟部已完成法制作業，但提出核能延役或重啟太過困難，因此評估案主要以逐漸每年降1%火力發電是否可達成。\\xa0沈榮津說，第3年起若繼續執行年減1%火電有困難，但若綠電能如期開辦，不再繼續減1%火電，則仍可穩定供電，公投僅2年期限。\\xa0原本民進黨政府推動2025年達到非核家園，經濟部現在不再提供能源配比，但核三機組至2025年7月仍如期除役，官員說，即使核能延役也無法滿足穩定供電。媒體提問核能廠如期除役，等2025年核三除役後，2026年台灣就沒有核能，是否違反公投結果? 經濟部次長曾文生說，電業法95之1是2025年之後政府不能有核電，是對政府的要求，公投要求的是不能限制有2025年的非核目標，沒有核能並沒有違反公投結果。近期大企業大規模設廠投資包含台積電在南科，華邦電到高雄路竹園區,力晶到竹科，台積電已表示20%會使用再生能源，因此經濟部表示，不會影響其他民生用電。',\n",
       " 'resource': '林巧雁／台北報導'}"
      ]
     },
     "execution_count": 54,
     "metadata": {},
     "output_type": "execute_result"
    }
   ],
   "source": [
    "singleNews"
   ]
  }
 ],
 "metadata": {
  "kernelspec": {
   "display_name": "Python 3",
   "language": "python",
   "name": "python3"
  },
  "language_info": {
   "codemirror_mode": {
    "name": "ipython",
    "version": 3
   },
   "file_extension": ".py",
   "mimetype": "text/x-python",
   "name": "python",
   "nbconvert_exporter": "python",
   "pygments_lexer": "ipython3",
   "version": "3.6.6"
  }
 },
 "nbformat": 4,
 "nbformat_minor": 2
}
